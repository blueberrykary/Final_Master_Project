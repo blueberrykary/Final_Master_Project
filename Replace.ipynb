import re

with open('/home/blueberrykary/ourfirstscraper/plist', 'r') as my_file:
    text = my_file.read()
    text = text.replace("[", "")
    text = text.replace("]", "")
    text = text.replace("*", "")
    text = text.replace("+", "")
    text = text.replace(".", "")   
    
    text = re.sub("\d+", " ", text)

# Created new file to replace previous list
with open('/home/blueberrykary/ourfirstscraper/replace1.txt', 'w') as my_file:
    my_file.write(text)
